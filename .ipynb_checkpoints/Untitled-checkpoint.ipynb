{
 "cells": [
  {
   "cell_type": "code",
   "execution_count": 1,
   "id": "95b8cf94-c76a-439b-8baa-f76d1c2663ca",
   "metadata": {},
   "outputs": [
    {
     "name": "stdout",
     "output_type": "stream",
     "text": [
      "   step     type     amount     nameOrig  oldbalanceOrg  newbalanceOrig  \\\n",
      "0   322  CASH_IN  143872.57   C541558918     2107229.78      2251102.35   \n",
      "1    17  PAYMENT    8963.69  C1985551798      335474.30       326510.61   \n",
      "2   187  PAYMENT    5672.72   C929739931         779.00            0.00   \n",
      "3   381  CASH_IN  223897.25  C1354063787     3459326.39      3683223.64   \n",
      "4   383  PAYMENT    2067.92   C112732053       12768.00        10700.08   \n",
      "\n",
      "      nameDest  oldbalanceDest  newbalanceDest  isFlaggedFraud  \n",
      "0   C967961682      5781985.95      5638113.38               0  \n",
      "1  M1301141627            0.00            0.00               0  \n",
      "2  M2006884275            0.00            0.00               0  \n",
      "3   C475277925       390585.77       166688.53               0  \n",
      "4   M795591734            0.00            0.00               0  \n",
      "   isFraud\n",
      "0        0\n",
      "1        0\n",
      "2        0\n",
      "3        0\n",
      "4        0\n"
     ]
    }
   ],
   "source": [
    "import pandas as pd\n",
    "\n",
    "# Load training and testing data\n",
    "X_train = pd.read_csv('data/X_train.csv')\n",
    "y_train = pd.read_csv('data/y_train.csv')\n",
    "X_test = pd.read_csv('data/X_test.csv')\n",
    "y_test = pd.read_csv('data/y_test.csv')\n",
    "\n",
    "# Check if the data loaded correctly\n",
    "print(X_train.head())\n",
    "print(y_train.head())\n"
   ]
  },
  {
   "cell_type": "code",
   "execution_count": null,
   "id": "a8515e2f-e18c-4550-99da-7aa18e79f11a",
   "metadata": {},
   "outputs": [],
   "source": []
  }
 ],
 "metadata": {
  "kernelspec": {
   "display_name": "Python 3 (ipykernel)",
   "language": "python",
   "name": "python3"
  },
  "language_info": {
   "codemirror_mode": {
    "name": "ipython",
    "version": 3
   },
   "file_extension": ".py",
   "mimetype": "text/x-python",
   "name": "python",
   "nbconvert_exporter": "python",
   "pygments_lexer": "ipython3",
   "version": "3.10.12"
  }
 },
 "nbformat": 4,
 "nbformat_minor": 5
}
